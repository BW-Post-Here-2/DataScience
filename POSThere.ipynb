{
  "nbformat": 4,
  "nbformat_minor": 0,
  "metadata": {
    "colab": {
      "name": "POSThere.ipynb",
      "provenance": [],
      "collapsed_sections": [],
      "machine_shape": "hm"
    },
    "kernelspec": {
      "name": "python3",
      "display_name": "Python 3"
    },
    "accelerator": "GPU"
  },
  "cells": [
    {
      "cell_type": "code",
      "metadata": {
        "id": "W7b1UZKy2DYN",
        "colab_type": "code",
        "colab": {}
      },
      "source": [
        "# import packages \n",
        "import requests\n",
        "import time\n",
        "import nltk\n",
        "import pandas as pd\n",
        "import regex as re\n",
        "import numpy as np\n",
        "import joblib\n",
        "\n",
        "from nltk.corpus import stopwords\n",
        "from nltk.tokenize import RegexpTokenizer\n",
        "from nltk.stem import WordNetLemmatizer\n",
        "from sklearn.pipeline import Pipeline\n",
        "from sklearn.metrics import classification_report\n",
        "from nltk.corpus import stopwords\n",
        "from nltk.stem.porter import PorterStemmer\n",
        "from nltk.corpus import wordnet\n",
        "\n",
        "from sklearn.feature_extraction.text import CountVectorizer, TfidfVectorizer\n",
        "from sklearn.model_selection import train_test_split, cross_val_score, GridSearchCV\n",
        "from sklearn.linear_model import LogisticRegression\n",
        "from sklearn.neighbors import NearestNeighbors\n",
        "from sklearn.ensemble import ExtraTreesClassifier, RandomForestClassifier\n",
        "from sklearn.tree import DecisionTreeClassifier\n",
        "from sklearn.neighbors import KNeighborsClassifier"
      ],
      "execution_count": 0,
      "outputs": []
    },
    {
      "cell_type": "code",
      "metadata": {
        "id": "wWoiecOR2GKr",
        "colab_type": "code",
        "colab": {}
      },
      "source": [
        "df =pd.read_csv('/content/model.csv')"
      ],
      "execution_count": 0,
      "outputs": []
    },
    {
      "cell_type": "code",
      "metadata": {
        "id": "M7Svsq1o8j7_",
        "colab_type": "code",
        "colab": {}
      },
      "source": [
        "df = df.sample(frac=1).reset_index(drop=True)"
      ],
      "execution_count": 0,
      "outputs": []
    },
    {
      "cell_type": "code",
      "metadata": {
        "id": "XUYnjY1Xapfb",
        "colab_type": "code",
        "colab": {}
      },
      "source": [
        "\n",
        "df.drop('Unnamed: 0',axis=1,inplace=True)"
      ],
      "execution_count": 0,
      "outputs": []
    },
    {
      "cell_type": "code",
      "metadata": {
        "id": "SlAoJt4Ku-K3",
        "colab_type": "code",
        "colab": {}
      },
      "source": [
        "\n",
        "df.head()"
      ],
      "execution_count": 0,
      "outputs": []
    },
    {
      "cell_type": "code",
      "metadata": {
        "id": "Wg_GCFCIAkVO",
        "colab_type": "code",
        "colab": {}
      },
      "source": [
        "df.dropna()"
      ],
      "execution_count": 0,
      "outputs": []
    },
    {
      "cell_type": "code",
      "metadata": {
        "id": "P2tbdea-xHhl",
        "colab_type": "code",
        "colab": {}
      },
      "source": [
        "df[\"content\"] = df[\"title\"].astype(str) + df[\"post_paragraph\"].astype(str)"
      ],
      "execution_count": 0,
      "outputs": []
    },
    {
      "cell_type": "code",
      "metadata": {
        "id": "kVeuBDJgplxw",
        "colab_type": "code",
        "colab": {}
      },
      "source": [
        "df.drop(['title', 'post_paragraph'], axis=1,inplace=True)"
      ],
      "execution_count": 0,
      "outputs": []
    },
    {
      "cell_type": "code",
      "metadata": {
        "id": "Rn_oHzhOHh87",
        "colab_type": "code",
        "colab": {}
      },
      "source": [
        "df.columns = ['subreddit', 'content']"
      ],
      "execution_count": 0,
      "outputs": []
    },
    {
      "cell_type": "code",
      "metadata": {
        "id": "5AwRN2Nida45",
        "colab_type": "code",
        "outputId": "6e6ff5ce-c2fb-41ea-c747-0a5ff63c4833",
        "colab": {
          "base_uri": "https://localhost:8080/",
          "height": 104
        }
      },
      "source": [
        "X = df['content']\n",
        "y = df['subreddit']\n",
        "\n",
        "X_train, X_test, y_train, y_test = train_test_split(X, y, test_size=0.3)\n",
        "\n",
        "print(X_train.shape)\n",
        "print(y_train.shape)\n",
        "print(X_test.shape)\n",
        "print(y_test.shape)"
      ],
      "execution_count": 13,
      "outputs": [
        {
          "output_type": "stream",
          "text": [
            "(8710,)\n",
            "(8710,)\n",
            "(3733,)\n",
            "(3733,)\n"
          ],
          "name": "stdout"
        }
      ]
    },
    {
      "cell_type": "markdown",
      "metadata": {
        "id": "j3YkotFvGcIO",
        "colab_type": "text"
      },
      "source": [
        "## Random Forest"
      ]
    },
    {
      "cell_type": "code",
      "metadata": {
        "id": "7NlsxAh8zXCL",
        "colab_type": "code",
        "colab": {}
      },
      "source": [
        "pipeline = Pipeline([\n",
        "    ('tfidf', TfidfVectorizer(stop_words='english')),\n",
        "    ('classifier', RandomForestClassifier(n_estimators=200,random_state=42)),\n",
        "])"
      ],
      "execution_count": 0,
      "outputs": []
    },
    {
      "cell_type": "code",
      "metadata": {
        "id": "vsCbbdccdje9",
        "colab_type": "code",
        "colab": {}
      },
      "source": [
        "pipeline.fit(X_train,y_train)"
      ],
      "execution_count": 0,
      "outputs": []
    },
    {
      "cell_type": "code",
      "metadata": {
        "id": "ffgglDk1dmof",
        "colab_type": "code",
        "colab": {}
      },
      "source": [
        "predictions = pipeline.predict(X_test)\n",
        "print(classification_report(y_test,predictions))"
      ],
      "execution_count": 0,
      "outputs": []
    },
    {
      "cell_type": "code",
      "metadata": {
        "id": "hs_0bKR0dqQO",
        "colab_type": "code",
        "colab": {}
      },
      "source": [
        "# Function to get predictions \n",
        "def get_predictions(post, num_answers=5):\n",
        "\n",
        "  \"\"\" \n",
        "  arg:\n",
        "    takes a potential post\n",
        "  returns:\n",
        "    top options of suitable subreddits\n",
        "\n",
        "  \"\"\"\n",
        "\n",
        "  preds = pd.Series(pipeline.predict_proba(post)[0])\n",
        "\n",
        "  preds.index = pipeline.classes_\n",
        "\n",
        "  preds = preds.sort_values(ascending=False)\n",
        "\n",
        "  return preds[:5]"
      ],
      "execution_count": 0,
      "outputs": []
    },
    {
      "cell_type": "code",
      "metadata": {
        "id": "IW3gEShAdu2C",
        "colab_type": "code",
        "colab": {}
      },
      "source": [
        "post = [\"Lebron is the best in this game\"]"
      ],
      "execution_count": 0,
      "outputs": []
    },
    {
      "cell_type": "code",
      "metadata": {
        "id": "rOCea3rOdxWT",
        "colab_type": "code",
        "outputId": "15353cdf-7da7-41c7-a397-10abc43a412a",
        "colab": {
          "base_uri": "https://localhost:8080/",
          "height": 137
        }
      },
      "source": [
        "get_predictions(post)"
      ],
      "execution_count": 0,
      "outputs": [
        {
          "output_type": "execute_result",
          "data": {
            "text/plain": [
              "nba               0.365\n",
              "gaming            0.230\n",
              "Unexpected        0.160\n",
              "Showerthoughts    0.035\n",
              "AskReddit         0.030\n",
              "dtype: float64"
            ]
          },
          "metadata": {
            "tags": []
          },
          "execution_count": 23
        }
      ]
    },
    {
      "cell_type": "code",
      "metadata": {
        "id": "nVNpVAiV2hk2",
        "colab_type": "code",
        "colab": {}
      },
      "source": [
        "post = [ \"\"\"\n",
        "              This election, Some candidates have come forward to debate environmental policy issues and campaign regulations.\n",
        "                \"\"\"]"
      ],
      "execution_count": 0,
      "outputs": []
    },
    {
      "cell_type": "code",
      "metadata": {
        "id": "wtxj9sbMIuYc",
        "colab_type": "code",
        "outputId": "3523b3b7-aa51-4835-a374-a4d455b59c41",
        "colab": {
          "base_uri": "https://localhost:8080/",
          "height": 137
        }
      },
      "source": [
        "get_predictions(post)"
      ],
      "execution_count": 0,
      "outputs": [
        {
          "output_type": "execute_result",
          "data": {
            "text/plain": [
              "copypasta    0.360\n",
              "DnD          0.135\n",
              "teenagers    0.070\n",
              "politics     0.055\n",
              "Piracy       0.055\n",
              "dtype: float64"
            ]
          },
          "metadata": {
            "tags": []
          },
          "execution_count": 31
        }
      ]
    },
    {
      "cell_type": "code",
      "metadata": {
        "id": "17d8obkMKjX0",
        "colab_type": "code",
        "colab": {}
      },
      "source": [
        ""
      ],
      "execution_count": 0,
      "outputs": []
    },
    {
      "cell_type": "markdown",
      "metadata": {
        "id": "W3JyN9r7Kjm7",
        "colab_type": "text"
      },
      "source": [
        "## KNeighbors"
      ]
    },
    {
      "cell_type": "code",
      "metadata": {
        "id": "5pqyPzllJ4-_",
        "colab_type": "code",
        "colab": {}
      },
      "source": [
        "# Not the best performer \n",
        "\n",
        "pipeline = Pipeline([\n",
        "    ('tfidf', TfidfVectorizer(stop_words='english')),\n",
        "    ('classifier', KNeighborsClassifier(n_neighbors=10)),\n",
        "])"
      ],
      "execution_count": 0,
      "outputs": []
    },
    {
      "cell_type": "code",
      "metadata": {
        "id": "oSADmWJoJ5LD",
        "colab_type": "code",
        "colab": {}
      },
      "source": [
        "pipeline.fit(X_train,y_train)"
      ],
      "execution_count": 0,
      "outputs": []
    },
    {
      "cell_type": "code",
      "metadata": {
        "id": "wcJpMA_6Ke5d",
        "colab_type": "code",
        "colab": {}
      },
      "source": [
        "predictions = pipeline.predict(X_test)\n",
        "print(classification_report(y_test,predictions))"
      ],
      "execution_count": 0,
      "outputs": []
    },
    {
      "cell_type": "code",
      "metadata": {
        "id": "NJBK5ppFKt-S",
        "colab_type": "code",
        "colab": {}
      },
      "source": [
        ""
      ],
      "execution_count": 0,
      "outputs": []
    },
    {
      "cell_type": "markdown",
      "metadata": {
        "id": "V4PVDlEZK3VA",
        "colab_type": "text"
      },
      "source": [
        "## Nearest Neigbors w/ Ball Tree"
      ]
    },
    {
      "cell_type": "code",
      "metadata": {
        "id": "CmxqkHL4KuKQ",
        "colab_type": "code",
        "colab": {}
      },
      "source": [
        "pipeline = Pipeline([\n",
        "    ('tfidf', TfidfVectorizer(stop_words='english')),\n",
        "    ('classifier', NearestNeighbors(n_neighbors=20)),\n",
        "])"
      ],
      "execution_count": 0,
      "outputs": []
    },
    {
      "cell_type": "code",
      "metadata": {
        "id": "EPnH8FisLP2B",
        "colab_type": "code",
        "colab": {}
      },
      "source": [
        "pipeline.fit(X_train,y_train)"
      ],
      "execution_count": 0,
      "outputs": []
    },
    {
      "cell_type": "code",
      "metadata": {
        "id": "NjdhZumZdNBg",
        "colab_type": "code",
        "colab": {}
      },
      "source": [
        ""
      ],
      "execution_count": 0,
      "outputs": []
    },
    {
      "cell_type": "markdown",
      "metadata": {
        "id": "afGMCQ6fdPUh",
        "colab_type": "text"
      },
      "source": [
        "## Random Forest is the best performing model"
      ]
    },
    {
      "cell_type": "code",
      "metadata": {
        "id": "IUTagR2vdNX5",
        "colab_type": "code",
        "colab": {}
      },
      "source": [
        "# pickle the model for transfer to Data Engineers"
      ],
      "execution_count": 0,
      "outputs": []
    },
    {
      "cell_type": "code",
      "metadata": {
        "id": "oqJknnAaLqyY",
        "colab_type": "code",
        "colab": {
          "base_uri": "https://localhost:8080/",
          "height": 54
        },
        "outputId": "3aa9a5ea-c3da-4349-8a15-e17d80e23c76"
      },
      "source": [
        "# Create pickled file with joblib\n",
        "from joblib import dump, load\n",
        "\n",
        "dump(pipeline, 'posthere_model.joblib')"
      ],
      "execution_count": 19,
      "outputs": [
        {
          "output_type": "execute_result",
          "data": {
            "text/plain": [
              "['posthere_model.joblib']"
            ]
          },
          "metadata": {
            "tags": []
          },
          "execution_count": 19
        }
      ]
    },
    {
      "cell_type": "code",
      "metadata": {
        "id": "ihu124mlC5kG",
        "colab_type": "code",
        "colab": {}
      },
      "source": [
        ""
      ],
      "execution_count": 0,
      "outputs": []
    }
  ]
}